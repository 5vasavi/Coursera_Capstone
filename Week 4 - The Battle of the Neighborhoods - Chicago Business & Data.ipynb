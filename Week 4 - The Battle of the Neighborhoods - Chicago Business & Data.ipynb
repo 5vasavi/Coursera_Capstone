{
 "cells": [
  {
   "cell_type": "markdown",
   "metadata": {},
   "source": [
    "# Week 4 - The Battle of Neighborhoods - Chicago"
   ]
  },
  {
   "cell_type": "markdown",
   "metadata": {},
   "source": [
    "## 1.\tIntroduction"
   ]
  },
  {
   "cell_type": "markdown",
   "metadata": {},
   "source": [
    "### 1.1 Background\n",
    "NeoCon (National Exposition of Contract Interior Furnishings) is held every June at The Mart in Chicago since 1969. As an architect I have always tried to attend this exposition which serves as the country’s largest commercial interior design launch pad for innovative ideas and products for the built environment. Around 500 industry’s major manufacturers and emerging companies showcase thousands of new products and services at NeoCon. 50,000 design professionals from all over the country converge at NeoCon to connect, learn and do business. Additionally the tradeshow is thrown open to the public as well. "
   ]
  },
  {
   "cell_type": "markdown",
   "metadata": {},
   "source": [
    "### 1.2 Business problem\n",
    "For the first time in its 51 year history due to Covid-19 the NeoCon was held virtually but plans are already being made for next year’s NeCon 2021 which is definitely going to be bigger and better than any of the past years. The thousands of visitors that are expected to visit Chicago during the time usually pick restaurants close to The Mart for convenience as the NeoCon Exposition has a jam packed schedule of events.\n",
    "\n",
    "The objective of this project is to use Foursquare location data and regional clustering of restaurant types to highlight the best restaurants/cuisines in different neighborhoods of the city. Such a database would enable the visitors to have a richer experience of visiting a fabulous city like Chicago while getting the most of the exposition. Besides NeoCon, Chicago is an extrememly popular tourist city with nearly 58 million (57.6 million visitors recorded in 2018 according to Chicago’s tourism bureau) people visiting every year. All these visitors could also find this database helpful in exploring the city and enjoying great meals in diverse neighborhoods of the city.\n"
   ]
  },
  {
   "cell_type": "markdown",
   "metadata": {},
   "source": [
    "## 2.\tData\n",
    "\n",
    "The data used for this project consists for 3 parts:\n",
    "\n",
    "1)\tA list of Chicago Neighborhoods from Wikipedia\n",
    "\n",
    "2)\tObtaining Latitudes and Longitudes of Neighborhoods using Geopy\n",
    "\n",
    "3)\tExploring and compiling the venues in Chicago by using Foursquare API\n",
    "\n",
    "\n",
    "The Chicago city data about different neighborhoods and the Foursquare data of the venues in the different neighborhoods will be used to run the K means algorithm in order to create clusters of neighborhoods that provide distinctive cuisines/restaurant types for the visitors."
   ]
  },
  {
   "cell_type": "code",
   "execution_count": null,
   "metadata": {},
   "outputs": [],
   "source": []
  }
 ],
 "metadata": {
  "kernelspec": {
   "display_name": "Python 3",
   "language": "python",
   "name": "python3"
  },
  "language_info": {
   "codemirror_mode": {
    "name": "ipython",
    "version": 3
   },
   "file_extension": ".py",
   "mimetype": "text/x-python",
   "name": "python",
   "nbconvert_exporter": "python",
   "pygments_lexer": "ipython3",
   "version": "3.7.4"
  }
 },
 "nbformat": 4,
 "nbformat_minor": 2
}
