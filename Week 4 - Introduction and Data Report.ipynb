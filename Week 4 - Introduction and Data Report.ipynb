{
    "cells": [
        {
            "cell_type": "markdown",
            "metadata": {
                "collapsed": true
            },
            "source": "# 1 INTRODUCTION"
        },
        {
            "cell_type": "markdown",
            "metadata": {},
            "source": "## 1.1   Background"
        },
        {
            "cell_type": "markdown",
            "metadata": {},
            "source": "### Neocon is the largest Architectural and design convention held in Chicago every year. Anmnd half a million people come every year to attend this event which is located at the merchans=dise mart in Chicago downtown."
        },
        {
            "cell_type": "markdown",
            "metadata": {},
            "source": "## 1.2   Business Problem"
        },
        {
            "cell_type": "code",
            "execution_count": null,
            "metadata": {},
            "outputs": [],
            "source": ""
        }
    ],
    "metadata": {
        "kernelspec": {
            "display_name": "Python 3.6",
            "language": "python",
            "name": "python3"
        },
        "language_info": {
            "codemirror_mode": {
                "name": "ipython",
                "version": 3
            },
            "file_extension": ".py",
            "mimetype": "text/x-python",
            "name": "python",
            "nbconvert_exporter": "python",
            "pygments_lexer": "ipython3",
            "version": "3.6.9"
        }
    },
    "nbformat": 4,
    "nbformat_minor": 1
}